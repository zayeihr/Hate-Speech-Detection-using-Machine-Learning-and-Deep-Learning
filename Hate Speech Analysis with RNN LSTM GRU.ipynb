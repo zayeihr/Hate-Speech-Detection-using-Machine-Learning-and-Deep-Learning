{
 "cells": [
  {
   "cell_type": "markdown",
   "metadata": {},
   "source": [
    "<center> <h1> Hate Speech Analysis </h1> </center>\n",
    "<center> <h2>  Neural Networks</h2> </center>\n",
    "\n",
    "<a id=\"Introduction\"></a>\n",
    "# Introduction\n",
    "-  The main aim of this project is to explain the task of Hate SPeech Analysis using RNN Model \n",
    "\n",
    "\n",
    "<a id=\"task\"></a>\n",
    "### Task\n",
    "    Learn Input-Ouput Function\n",
    "    Given a text as an input and predict ratings label(output)\n",
    "    \n",
    "<a id=\"goal\"></a>    \n",
    "### Goal:\n",
    "    To learn from input to predict output\n",
    "\n",
    "<a id=\"input-output\"></a>\n",
    "### Input-Output: \n",
    "#### Input: \n",
    "    Comment (text only) \n",
    "#### Output:\n",
    "    Label of the text \n",
    "        hate_speech = number of users who judged the tweet to be hate speech.\n",
    "\n",
    "        offensive_language = number of users who judged the tweet to be offensive.\n",
    "\n",
    "        neither = number of users who judged the tweet to be neither offensive nor non-offensive.\n",
    "\n",
    "        class = class label for majority of CF users. 0 - hate speech 1 - offensive language 2 - neither\n",
    "    \n",
    "<a id=\"phases\"></a>\n",
    "# Phases of Machine Learning:\n",
    "\n",
    "**Training:**\n",
    "- Learning phase.\n",
    "   - Subset of data (Train data) is used to train model.\n",
    "   \n",
    "**Testing:**\n",
    "- Subset of data is used to evaluate\\test trained model.\n",
    "\n",
    "**Application:**\n",
    "- Learned \\Trained model is used in real world applications.\n",
    "    - Predictions are made on the real world data."
   ]
  },
  {
   "cell_type": "markdown",
   "metadata": {},
   "source": [
    "## Load Data"
   ]
  },
  {
   "cell_type": "code",
   "execution_count": 1,
   "metadata": {},
   "outputs": [],
   "source": [
    "import warnings\n",
    "warnings.filterwarnings(\"ignore\")"
   ]
  },
  {
   "cell_type": "code",
   "execution_count": 2,
   "metadata": {
    "execution": {
     "iopub.execute_input": "2024-02-11T16:15:28.383642Z",
     "iopub.status.busy": "2024-02-11T16:15:28.383172Z",
     "iopub.status.idle": "2024-02-11T16:15:28.390589Z",
     "shell.execute_reply": "2024-02-11T16:15:28.388866Z",
     "shell.execute_reply.started": "2024-02-11T16:15:28.383607Z"
    }
   },
   "outputs": [
    {
     "name": "stdout",
     "output_type": "stream",
     "text": [
      "WARNING:tensorflow:From C:\\Users\\waqar\\anaconda3\\Lib\\site-packages\\keras\\src\\losses.py:2976: The name tf.losses.sparse_softmax_cross_entropy is deprecated. Please use tf.compat.v1.losses.sparse_softmax_cross_entropy instead.\n",
      "\n"
     ]
    }
   ],
   "source": [
    "import numpy as np # linear algebra\n",
    "import pandas as pd # data processing, CSV file I/O (e.g. pd.read_csv)\n",
    "import tensorflow as tf\n",
    "from tensorflow import keras\n",
    "import os\n",
    "\n",
    "from sklearn.metrics import confusion_matrix\n",
    "from sklearn.metrics import accuracy_score, precision_score, recall_score, f1_score, roc_curve\n",
    "from sklearn.metrics import roc_curve\n",
    "from sklearn.metrics import auc,roc_auc_score\n",
    "from sklearn.metrics import classification_report"
   ]
  },
  {
   "cell_type": "code",
   "execution_count": 3,
   "metadata": {
    "execution": {
     "iopub.execute_input": "2024-02-11T13:22:15.062650Z",
     "iopub.status.busy": "2024-02-11T13:22:15.061710Z",
     "iopub.status.idle": "2024-02-11T13:22:15.225200Z",
     "shell.execute_reply": "2024-02-11T13:22:15.223760Z",
     "shell.execute_reply.started": "2024-02-11T13:22:15.062608Z"
    }
   },
   "outputs": [
    {
     "name": "stdout",
     "output_type": "stream",
     "text": [
      " Data:\n",
      "=============\n",
      "\n"
     ]
    },
    {
     "data": {
      "text/html": [
       "<div>\n",
       "<style scoped>\n",
       "    .dataframe tbody tr th:only-of-type {\n",
       "        vertical-align: middle;\n",
       "    }\n",
       "\n",
       "    .dataframe tbody tr th {\n",
       "        vertical-align: top;\n",
       "    }\n",
       "\n",
       "    .dataframe thead th {\n",
       "        text-align: right;\n",
       "    }\n",
       "</style>\n",
       "<table border=\"1\" class=\"dataframe\">\n",
       "  <thead>\n",
       "    <tr style=\"text-align: right;\">\n",
       "      <th></th>\n",
       "      <th>Unnamed: 0</th>\n",
       "      <th>count</th>\n",
       "      <th>hate_speech</th>\n",
       "      <th>offensive_language</th>\n",
       "      <th>neither</th>\n",
       "      <th>label</th>\n",
       "      <th>tweet</th>\n",
       "    </tr>\n",
       "  </thead>\n",
       "  <tbody>\n",
       "    <tr>\n",
       "      <th>5487</th>\n",
       "      <td>5645</td>\n",
       "      <td>3</td>\n",
       "      <td>0</td>\n",
       "      <td>3</td>\n",
       "      <td>0</td>\n",
       "      <td>1</td>\n",
       "      <td>@alexbenovich more than you run pussy</td>\n",
       "    </tr>\n",
       "    <tr>\n",
       "      <th>19366</th>\n",
       "      <td>19795</td>\n",
       "      <td>3</td>\n",
       "      <td>1</td>\n",
       "      <td>0</td>\n",
       "      <td>2</td>\n",
       "      <td>2</td>\n",
       "      <td>RT @jjauthor: US ghettos-driven by liberal ide...</td>\n",
       "    </tr>\n",
       "    <tr>\n",
       "      <th>23849</th>\n",
       "      <td>24346</td>\n",
       "      <td>3</td>\n",
       "      <td>0</td>\n",
       "      <td>3</td>\n",
       "      <td>0</td>\n",
       "      <td>1</td>\n",
       "      <td>get over it pussies</td>\n",
       "    </tr>\n",
       "    <tr>\n",
       "      <th>8806</th>\n",
       "      <td>9051</td>\n",
       "      <td>3</td>\n",
       "      <td>0</td>\n",
       "      <td>3</td>\n",
       "      <td>0</td>\n",
       "      <td>1</td>\n",
       "      <td>Don't let the power of the dollar turn you int...</td>\n",
       "    </tr>\n",
       "    <tr>\n",
       "      <th>8222</th>\n",
       "      <td>8449</td>\n",
       "      <td>3</td>\n",
       "      <td>1</td>\n",
       "      <td>2</td>\n",
       "      <td>0</td>\n",
       "      <td>1</td>\n",
       "      <td>Buddy slapped his rent stress out on that mess...</td>\n",
       "    </tr>\n",
       "  </tbody>\n",
       "</table>\n",
       "</div>"
      ],
      "text/plain": [
       "       Unnamed: 0  count  hate_speech  offensive_language  neither  label  \\\n",
       "5487         5645      3            0                   3        0      1   \n",
       "19366       19795      3            1                   0        2      2   \n",
       "23849       24346      3            0                   3        0      1   \n",
       "8806         9051      3            0                   3        0      1   \n",
       "8222         8449      3            1                   2        0      1   \n",
       "\n",
       "                                                   tweet  \n",
       "5487               @alexbenovich more than you run pussy  \n",
       "19366  RT @jjauthor: US ghettos-driven by liberal ide...  \n",
       "23849                                get over it pussies  \n",
       "8806   Don't let the power of the dollar turn you int...  \n",
       "8222   Buddy slapped his rent stress out on that mess...  "
      ]
     },
     "execution_count": 3,
     "metadata": {},
     "output_type": "execute_result"
    }
   ],
   "source": [
    "''' \n",
    "    /*-------------------- LOAD_dataset ----------------\n",
    "    | Function  : read_csv()\n",
    "    | Purpose   : Read a Dataset in CSV file Format \n",
    "    | Arguments : \n",
    "    |       path    : Path to dataset file\n",
    "    |       dataset : Dataset file name\n",
    "    | Return    :\n",
    "    |       dataset : Dataset in DataFrame Format\n",
    "    *---------------------------------------------------------*/\n",
    "'''\n",
    "\n",
    "# Read the Data in CSV Format\n",
    "# Read the Data in CSV Format\n",
    "dataset = pd.read_csv('labeled_data.csv')\n",
    "dataset = pd.DataFrame(dataset)\n",
    "#Load the Training Data\n",
    "print(\" Data:\")\n",
    "print(\"=============\\n\")\n",
    "dataset.sample(5)"
   ]
  },
  {
   "cell_type": "code",
   "execution_count": 5,
   "metadata": {},
   "outputs": [
    {
     "data": {
      "text/html": [
       "<div>\n",
       "<style scoped>\n",
       "    .dataframe tbody tr th:only-of-type {\n",
       "        vertical-align: middle;\n",
       "    }\n",
       "\n",
       "    .dataframe tbody tr th {\n",
       "        vertical-align: top;\n",
       "    }\n",
       "\n",
       "    .dataframe thead th {\n",
       "        text-align: right;\n",
       "    }\n",
       "</style>\n",
       "<table border=\"1\" class=\"dataframe\">\n",
       "  <thead>\n",
       "    <tr style=\"text-align: right;\">\n",
       "      <th></th>\n",
       "      <th>label</th>\n",
       "      <th>tweet</th>\n",
       "    </tr>\n",
       "  </thead>\n",
       "  <tbody>\n",
       "    <tr>\n",
       "      <th>0</th>\n",
       "      <td>Neither</td>\n",
       "      <td>!!! RT @mayasolovely: As a woman you shouldn't...</td>\n",
       "    </tr>\n",
       "    <tr>\n",
       "      <th>1</th>\n",
       "      <td>Offensive Language</td>\n",
       "      <td>!!!!! RT @mleew17: boy dats cold...tyga dwn ba...</td>\n",
       "    </tr>\n",
       "    <tr>\n",
       "      <th>2</th>\n",
       "      <td>Offensive Language</td>\n",
       "      <td>!!!!!!! RT @UrKindOfBrand Dawg!!!! RT @80sbaby...</td>\n",
       "    </tr>\n",
       "    <tr>\n",
       "      <th>3</th>\n",
       "      <td>Offensive Language</td>\n",
       "      <td>!!!!!!!!! RT @C_G_Anderson: @viva_based she lo...</td>\n",
       "    </tr>\n",
       "    <tr>\n",
       "      <th>4</th>\n",
       "      <td>Offensive Language</td>\n",
       "      <td>!!!!!!!!!!!!! RT @ShenikaRoberts: The shit you...</td>\n",
       "    </tr>\n",
       "    <tr>\n",
       "      <th>...</th>\n",
       "      <td>...</td>\n",
       "      <td>...</td>\n",
       "    </tr>\n",
       "    <tr>\n",
       "      <th>24778</th>\n",
       "      <td>Offensive Language</td>\n",
       "      <td>you's a muthaf***in lie &amp;#8220;@LifeAsKing: @2...</td>\n",
       "    </tr>\n",
       "    <tr>\n",
       "      <th>24779</th>\n",
       "      <td>Neither</td>\n",
       "      <td>you've gone and broke the wrong heart baby, an...</td>\n",
       "    </tr>\n",
       "    <tr>\n",
       "      <th>24780</th>\n",
       "      <td>Offensive Language</td>\n",
       "      <td>young buck wanna eat!!.. dat nigguh like I ain...</td>\n",
       "    </tr>\n",
       "    <tr>\n",
       "      <th>24781</th>\n",
       "      <td>Offensive Language</td>\n",
       "      <td>youu got wild bitches tellin you lies</td>\n",
       "    </tr>\n",
       "    <tr>\n",
       "      <th>24782</th>\n",
       "      <td>Neither</td>\n",
       "      <td>~~Ruffled | Ntac Eileen Dahlia - Beautiful col...</td>\n",
       "    </tr>\n",
       "  </tbody>\n",
       "</table>\n",
       "<p>24783 rows × 2 columns</p>\n",
       "</div>"
      ],
      "text/plain": [
       "                    label                                              tweet\n",
       "0                 Neither  !!! RT @mayasolovely: As a woman you shouldn't...\n",
       "1      Offensive Language  !!!!! RT @mleew17: boy dats cold...tyga dwn ba...\n",
       "2      Offensive Language  !!!!!!! RT @UrKindOfBrand Dawg!!!! RT @80sbaby...\n",
       "3      Offensive Language  !!!!!!!!! RT @C_G_Anderson: @viva_based she lo...\n",
       "4      Offensive Language  !!!!!!!!!!!!! RT @ShenikaRoberts: The shit you...\n",
       "...                   ...                                                ...\n",
       "24778  Offensive Language  you's a muthaf***in lie &#8220;@LifeAsKing: @2...\n",
       "24779             Neither  you've gone and broke the wrong heart baby, an...\n",
       "24780  Offensive Language  young buck wanna eat!!.. dat nigguh like I ain...\n",
       "24781  Offensive Language              youu got wild bitches tellin you lies\n",
       "24782             Neither  ~~Ruffled | Ntac Eileen Dahlia - Beautiful col...\n",
       "\n",
       "[24783 rows x 2 columns]"
      ]
     },
     "execution_count": 5,
     "metadata": {},
     "output_type": "execute_result"
    }
   ],
   "source": [
    "# Define the mapping dictionary\n",
    "label_mapping = {0: 'Hate Speech', 1: 'Offensive Language', 2: 'Neither'}\n",
    "\n",
    "# Map the numeric values to their corresponding labels\n",
    "dataset['label'] = dataset['label'].map(label_mapping)\n",
    "\n",
    "# List of columns you want to keep\n",
    "columns_to_keep = ['label', 'tweet']\n",
    "\n",
    "# Drop columns that are not in the list 'columns_to_keep'\n",
    "dataset = dataset.drop(columns=dataset.columns.difference(columns_to_keep))\n",
    "dataset"
   ]
  },
  {
   "cell_type": "markdown",
   "metadata": {},
   "source": [
    "## Data Exploration"
   ]
  },
  {
   "cell_type": "code",
   "execution_count": 6,
   "metadata": {
    "execution": {
     "iopub.execute_input": "2024-02-11T13:22:15.227930Z",
     "iopub.status.busy": "2024-02-11T13:22:15.226758Z",
     "iopub.status.idle": "2024-02-11T13:22:15.238443Z",
     "shell.execute_reply": "2024-02-11T13:22:15.236956Z",
     "shell.execute_reply.started": "2024-02-11T13:22:15.227890Z"
    }
   },
   "outputs": [
    {
     "name": "stdout",
     "output_type": "stream",
     "text": [
      "The shape of the dataset is : (24783, 2)\n"
     ]
    }
   ],
   "source": [
    "print(f'The shape of the dataset is : {dataset.shape}')"
   ]
  },
  {
   "cell_type": "code",
   "execution_count": 7,
   "metadata": {
    "execution": {
     "iopub.execute_input": "2024-02-11T13:22:15.241301Z",
     "iopub.status.busy": "2024-02-11T13:22:15.239871Z",
     "iopub.status.idle": "2024-02-11T13:22:15.262739Z",
     "shell.execute_reply": "2024-02-11T13:22:15.261330Z",
     "shell.execute_reply.started": "2024-02-11T13:22:15.241234Z"
    }
   },
   "outputs": [
    {
     "name": "stdout",
     "output_type": "stream",
     "text": [
      "The columns are :Index(['label', 'tweet'], dtype='object')\n"
     ]
    }
   ],
   "source": [
    "print(f'The columns are :{dataset.columns}')"
   ]
  },
  {
   "cell_type": "code",
   "execution_count": 8,
   "metadata": {},
   "outputs": [
    {
     "name": "stdout",
     "output_type": "stream",
     "text": [
      "The dtypes of the dataset : \n",
      "\n",
      "label    object\n",
      "tweet    object\n",
      "dtype: object\n"
     ]
    }
   ],
   "source": [
    "print(f'The dtypes of the dataset : \\n\\n{dataset.dtypes}')"
   ]
  },
  {
   "cell_type": "code",
   "execution_count": 9,
   "metadata": {},
   "outputs": [
    {
     "data": {
      "text/html": [
       "<div>\n",
       "<style scoped>\n",
       "    .dataframe tbody tr th:only-of-type {\n",
       "        vertical-align: middle;\n",
       "    }\n",
       "\n",
       "    .dataframe tbody tr th {\n",
       "        vertical-align: top;\n",
       "    }\n",
       "\n",
       "    .dataframe thead th {\n",
       "        text-align: right;\n",
       "    }\n",
       "</style>\n",
       "<table border=\"1\" class=\"dataframe\">\n",
       "  <thead>\n",
       "    <tr style=\"text-align: right;\">\n",
       "      <th></th>\n",
       "      <th>label</th>\n",
       "      <th>tweet</th>\n",
       "    </tr>\n",
       "  </thead>\n",
       "  <tbody>\n",
       "    <tr>\n",
       "      <th>0</th>\n",
       "      <td>Neither</td>\n",
       "      <td>!!! RT @mayasolovely: As a woman you shouldn't...</td>\n",
       "    </tr>\n",
       "    <tr>\n",
       "      <th>1</th>\n",
       "      <td>Offensive Language</td>\n",
       "      <td>!!!!! RT @mleew17: boy dats cold...tyga dwn ba...</td>\n",
       "    </tr>\n",
       "    <tr>\n",
       "      <th>2</th>\n",
       "      <td>Offensive Language</td>\n",
       "      <td>!!!!!!! RT @UrKindOfBrand Dawg!!!! RT @80sbaby...</td>\n",
       "    </tr>\n",
       "    <tr>\n",
       "      <th>3</th>\n",
       "      <td>Offensive Language</td>\n",
       "      <td>!!!!!!!!! RT @C_G_Anderson: @viva_based she lo...</td>\n",
       "    </tr>\n",
       "    <tr>\n",
       "      <th>4</th>\n",
       "      <td>Offensive Language</td>\n",
       "      <td>!!!!!!!!!!!!! RT @ShenikaRoberts: The shit you...</td>\n",
       "    </tr>\n",
       "    <tr>\n",
       "      <th>...</th>\n",
       "      <td>...</td>\n",
       "      <td>...</td>\n",
       "    </tr>\n",
       "    <tr>\n",
       "      <th>24778</th>\n",
       "      <td>Offensive Language</td>\n",
       "      <td>you's a muthaf***in lie &amp;#8220;@LifeAsKing: @2...</td>\n",
       "    </tr>\n",
       "    <tr>\n",
       "      <th>24779</th>\n",
       "      <td>Neither</td>\n",
       "      <td>you've gone and broke the wrong heart baby, an...</td>\n",
       "    </tr>\n",
       "    <tr>\n",
       "      <th>24780</th>\n",
       "      <td>Offensive Language</td>\n",
       "      <td>young buck wanna eat!!.. dat nigguh like I ain...</td>\n",
       "    </tr>\n",
       "    <tr>\n",
       "      <th>24781</th>\n",
       "      <td>Offensive Language</td>\n",
       "      <td>youu got wild bitches tellin you lies</td>\n",
       "    </tr>\n",
       "    <tr>\n",
       "      <th>24782</th>\n",
       "      <td>Neither</td>\n",
       "      <td>~~Ruffled | Ntac Eileen Dahlia - Beautiful col...</td>\n",
       "    </tr>\n",
       "  </tbody>\n",
       "</table>\n",
       "<p>24783 rows × 2 columns</p>\n",
       "</div>"
      ],
      "text/plain": [
       "                    label                                              tweet\n",
       "0                 Neither  !!! RT @mayasolovely: As a woman you shouldn't...\n",
       "1      Offensive Language  !!!!! RT @mleew17: boy dats cold...tyga dwn ba...\n",
       "2      Offensive Language  !!!!!!! RT @UrKindOfBrand Dawg!!!! RT @80sbaby...\n",
       "3      Offensive Language  !!!!!!!!! RT @C_G_Anderson: @viva_based she lo...\n",
       "4      Offensive Language  !!!!!!!!!!!!! RT @ShenikaRoberts: The shit you...\n",
       "...                   ...                                                ...\n",
       "24778  Offensive Language  you's a muthaf***in lie &#8220;@LifeAsKing: @2...\n",
       "24779             Neither  you've gone and broke the wrong heart baby, an...\n",
       "24780  Offensive Language  young buck wanna eat!!.. dat nigguh like I ain...\n",
       "24781  Offensive Language              youu got wild bitches tellin you lies\n",
       "24782             Neither  ~~Ruffled | Ntac Eileen Dahlia - Beautiful col...\n",
       "\n",
       "[24783 rows x 2 columns]"
      ]
     },
     "execution_count": 9,
     "metadata": {},
     "output_type": "execute_result"
    }
   ],
   "source": [
    "dataset.dropna()"
   ]
  },
  {
   "cell_type": "code",
   "execution_count": 12,
   "metadata": {},
   "outputs": [
    {
     "name": "stdout",
     "output_type": "stream",
     "text": [
      "Unique values of label column and their counts:\n",
      "Offensive Language: 19190\n",
      "Neither: 4163\n",
      "Hate Speech: 1430\n"
     ]
    }
   ],
   "source": [
    "# Replace 'rating' with the actual column name if it's different\n",
    "unique_ratings = dataset['label'].value_counts()\n",
    "\n",
    "print(\"Unique values of label column and their counts:\")\n",
    "for rating, count in unique_ratings.items():\n",
    "    print(f\"{rating}: {count}\")"
   ]
  },
  {
   "cell_type": "code",
   "execution_count": 13,
   "metadata": {},
   "outputs": [
    {
     "data": {
      "text/html": [
       "<div>\n",
       "<style scoped>\n",
       "    .dataframe tbody tr th:only-of-type {\n",
       "        vertical-align: middle;\n",
       "    }\n",
       "\n",
       "    .dataframe tbody tr th {\n",
       "        vertical-align: top;\n",
       "    }\n",
       "\n",
       "    .dataframe thead th {\n",
       "        text-align: right;\n",
       "    }\n",
       "</style>\n",
       "<table border=\"1\" class=\"dataframe\">\n",
       "  <thead>\n",
       "    <tr style=\"text-align: right;\">\n",
       "      <th></th>\n",
       "      <th>label</th>\n",
       "      <th>tweet</th>\n",
       "    </tr>\n",
       "  </thead>\n",
       "  <tbody>\n",
       "    <tr>\n",
       "      <th>0</th>\n",
       "      <td>Neither</td>\n",
       "      <td>!!! RT @mayasolovely: As a woman you shouldn't...</td>\n",
       "    </tr>\n",
       "    <tr>\n",
       "      <th>1</th>\n",
       "      <td>Offensive Language</td>\n",
       "      <td>!!!!! RT @mleew17: boy dats cold...tyga dwn ba...</td>\n",
       "    </tr>\n",
       "    <tr>\n",
       "      <th>2</th>\n",
       "      <td>Offensive Language</td>\n",
       "      <td>!!!!!!! RT @UrKindOfBrand Dawg!!!! RT @80sbaby...</td>\n",
       "    </tr>\n",
       "    <tr>\n",
       "      <th>3</th>\n",
       "      <td>Offensive Language</td>\n",
       "      <td>!!!!!!!!! RT @C_G_Anderson: @viva_based she lo...</td>\n",
       "    </tr>\n",
       "    <tr>\n",
       "      <th>4</th>\n",
       "      <td>Offensive Language</td>\n",
       "      <td>!!!!!!!!!!!!! RT @ShenikaRoberts: The shit you...</td>\n",
       "    </tr>\n",
       "    <tr>\n",
       "      <th>...</th>\n",
       "      <td>...</td>\n",
       "      <td>...</td>\n",
       "    </tr>\n",
       "    <tr>\n",
       "      <th>24778</th>\n",
       "      <td>Offensive Language</td>\n",
       "      <td>you's a muthaf***in lie &amp;#8220;@LifeAsKing: @2...</td>\n",
       "    </tr>\n",
       "    <tr>\n",
       "      <th>24779</th>\n",
       "      <td>Neither</td>\n",
       "      <td>you've gone and broke the wrong heart baby, an...</td>\n",
       "    </tr>\n",
       "    <tr>\n",
       "      <th>24780</th>\n",
       "      <td>Offensive Language</td>\n",
       "      <td>young buck wanna eat!!.. dat nigguh like I ain...</td>\n",
       "    </tr>\n",
       "    <tr>\n",
       "      <th>24781</th>\n",
       "      <td>Offensive Language</td>\n",
       "      <td>youu got wild bitches tellin you lies</td>\n",
       "    </tr>\n",
       "    <tr>\n",
       "      <th>24782</th>\n",
       "      <td>Neither</td>\n",
       "      <td>~~Ruffled | Ntac Eileen Dahlia - Beautiful col...</td>\n",
       "    </tr>\n",
       "  </tbody>\n",
       "</table>\n",
       "<p>24783 rows × 2 columns</p>\n",
       "</div>"
      ],
      "text/plain": [
       "                    label                                              tweet\n",
       "0                 Neither  !!! RT @mayasolovely: As a woman you shouldn't...\n",
       "1      Offensive Language  !!!!! RT @mleew17: boy dats cold...tyga dwn ba...\n",
       "2      Offensive Language  !!!!!!! RT @UrKindOfBrand Dawg!!!! RT @80sbaby...\n",
       "3      Offensive Language  !!!!!!!!! RT @C_G_Anderson: @viva_based she lo...\n",
       "4      Offensive Language  !!!!!!!!!!!!! RT @ShenikaRoberts: The shit you...\n",
       "...                   ...                                                ...\n",
       "24778  Offensive Language  you's a muthaf***in lie &#8220;@LifeAsKing: @2...\n",
       "24779             Neither  you've gone and broke the wrong heart baby, an...\n",
       "24780  Offensive Language  young buck wanna eat!!.. dat nigguh like I ain...\n",
       "24781  Offensive Language              youu got wild bitches tellin you lies\n",
       "24782             Neither  ~~Ruffled | Ntac Eileen Dahlia - Beautiful col...\n",
       "\n",
       "[24783 rows x 2 columns]"
      ]
     },
     "execution_count": 13,
     "metadata": {},
     "output_type": "execute_result"
    }
   ],
   "source": [
    "df_filtered = dataset.dropna(subset=['label'])\n",
    "# Assuming your data is stored in a DataFrame called df_filtered\n",
    "df_filtered.reset_index(drop=True, inplace=True)\n",
    "df_filtered"
   ]
  },
  {
   "cell_type": "code",
   "execution_count": 14,
   "metadata": {},
   "outputs": [
    {
     "data": {
      "text/plain": [
       "(24783, 2)"
      ]
     },
     "execution_count": 14,
     "metadata": {},
     "output_type": "execute_result"
    }
   ],
   "source": [
    "dataset.shape"
   ]
  },
  {
   "cell_type": "code",
   "execution_count": 15,
   "metadata": {},
   "outputs": [
    {
     "name": "stdout",
     "output_type": "stream",
     "text": [
      "\n",
      " Data After Pre-processing:\n",
      "====================================\n",
      "\n"
     ]
    },
    {
     "data": {
      "text/html": [
       "<div>\n",
       "<style scoped>\n",
       "    .dataframe tbody tr th:only-of-type {\n",
       "        vertical-align: middle;\n",
       "    }\n",
       "\n",
       "    .dataframe tbody tr th {\n",
       "        vertical-align: top;\n",
       "    }\n",
       "\n",
       "    .dataframe thead th {\n",
       "        text-align: right;\n",
       "    }\n",
       "</style>\n",
       "<table border=\"1\" class=\"dataframe\">\n",
       "  <thead>\n",
       "    <tr style=\"text-align: right;\">\n",
       "      <th></th>\n",
       "      <th>label</th>\n",
       "      <th>tweet</th>\n",
       "    </tr>\n",
       "  </thead>\n",
       "  <tbody>\n",
       "    <tr>\n",
       "      <th>0</th>\n",
       "      <td>Neither</td>\n",
       "      <td>woman shouldnt complain cleaning house amp man...</td>\n",
       "    </tr>\n",
       "    <tr>\n",
       "      <th>1</th>\n",
       "      <td>Offensive Language</td>\n",
       "      <td>boy dats coldtyga dwn bad cuffin dat hoe place</td>\n",
       "    </tr>\n",
       "    <tr>\n",
       "      <th>2</th>\n",
       "      <td>Offensive Language</td>\n",
       "      <td>dawg ever fuck bitch start cry confused shit</td>\n",
       "    </tr>\n",
       "    <tr>\n",
       "      <th>3</th>\n",
       "      <td>Offensive Language</td>\n",
       "      <td>look like tranny</td>\n",
       "    </tr>\n",
       "    <tr>\n",
       "      <th>4</th>\n",
       "      <td>Offensive Language</td>\n",
       "      <td>shit hear might true might faker bitch told</td>\n",
       "    </tr>\n",
       "    <tr>\n",
       "      <th>5</th>\n",
       "      <td>Offensive Language</td>\n",
       "      <td>shit blows meclaim faithful somebody still fuc...</td>\n",
       "    </tr>\n",
       "    <tr>\n",
       "      <th>6</th>\n",
       "      <td>Offensive Language</td>\n",
       "      <td>sit hate another bitch got much shit going</td>\n",
       "    </tr>\n",
       "    <tr>\n",
       "      <th>7</th>\n",
       "      <td>Offensive Language</td>\n",
       "      <td>cause tired big bitches coming skinny girls</td>\n",
       "    </tr>\n",
       "    <tr>\n",
       "      <th>8</th>\n",
       "      <td>Offensive Language</td>\n",
       "      <td>amp might get bitch back amp thats</td>\n",
       "    </tr>\n",
       "    <tr>\n",
       "      <th>9</th>\n",
       "      <td>Offensive Language</td>\n",
       "      <td>hobbies include fighting mariam bitch</td>\n",
       "    </tr>\n",
       "    <tr>\n",
       "      <th>10</th>\n",
       "      <td>Offensive Language</td>\n",
       "      <td>keeks bitch curves everyone lol walked convers...</td>\n",
       "    </tr>\n",
       "    <tr>\n",
       "      <th>11</th>\n",
       "      <td>Offensive Language</td>\n",
       "      <td>murda gang bitch gang land</td>\n",
       "    </tr>\n",
       "    <tr>\n",
       "      <th>12</th>\n",
       "      <td>Offensive Language</td>\n",
       "      <td>hoes smoke losers yea</td>\n",
       "    </tr>\n",
       "    <tr>\n",
       "      <th>13</th>\n",
       "      <td>Offensive Language</td>\n",
       "      <td>bad bitches thing like</td>\n",
       "    </tr>\n",
       "    <tr>\n",
       "      <th>14</th>\n",
       "      <td>Offensive Language</td>\n",
       "      <td>bitch get</td>\n",
       "    </tr>\n",
       "    <tr>\n",
       "      <th>15</th>\n",
       "      <td>Offensive Language</td>\n",
       "      <td>bitch nigga miss</td>\n",
       "    </tr>\n",
       "    <tr>\n",
       "      <th>16</th>\n",
       "      <td>Offensive Language</td>\n",
       "      <td>bitch plz whatever</td>\n",
       "    </tr>\n",
       "    <tr>\n",
       "      <th>17</th>\n",
       "      <td>Offensive Language</td>\n",
       "      <td>bitch love</td>\n",
       "    </tr>\n",
       "    <tr>\n",
       "      <th>18</th>\n",
       "      <td>Offensive Language</td>\n",
       "      <td>bitches get cut everyday</td>\n",
       "    </tr>\n",
       "    <tr>\n",
       "      <th>19</th>\n",
       "      <td>Offensive Language</td>\n",
       "      <td>black bottle amp bad bitch</td>\n",
       "    </tr>\n",
       "  </tbody>\n",
       "</table>\n",
       "</div>"
      ],
      "text/plain": [
       "                 label                                              tweet\n",
       "0              Neither  woman shouldnt complain cleaning house amp man...\n",
       "1   Offensive Language     boy dats coldtyga dwn bad cuffin dat hoe place\n",
       "2   Offensive Language       dawg ever fuck bitch start cry confused shit\n",
       "3   Offensive Language                                   look like tranny\n",
       "4   Offensive Language        shit hear might true might faker bitch told\n",
       "5   Offensive Language  shit blows meclaim faithful somebody still fuc...\n",
       "6   Offensive Language         sit hate another bitch got much shit going\n",
       "7   Offensive Language        cause tired big bitches coming skinny girls\n",
       "8   Offensive Language                 amp might get bitch back amp thats\n",
       "9   Offensive Language              hobbies include fighting mariam bitch\n",
       "10  Offensive Language  keeks bitch curves everyone lol walked convers...\n",
       "11  Offensive Language                         murda gang bitch gang land\n",
       "12  Offensive Language                              hoes smoke losers yea\n",
       "13  Offensive Language                             bad bitches thing like\n",
       "14  Offensive Language                                          bitch get\n",
       "15  Offensive Language                                   bitch nigga miss\n",
       "16  Offensive Language                                 bitch plz whatever\n",
       "17  Offensive Language                                         bitch love\n",
       "18  Offensive Language                           bitches get cut everyday\n",
       "19  Offensive Language                         black bottle amp bad bitch"
      ]
     },
     "execution_count": 15,
     "metadata": {},
     "output_type": "execute_result"
    }
   ],
   "source": [
    "\n",
    "''' \n",
    "    /*------------------------PRE-PROCESSING--DATA -------------\n",
    "    | Function  : lower() & re.sub()\n",
    "    | Purpose   : Perform following preprocessing:\n",
    "    |              • Lower case\n",
    "    |              • Remove Punctuation marks\n",
    "    |              • Stopwords Removal\n",
    "    | Arguments : \n",
    "    |       text: Text to be pre-processed\n",
    "    | Return    :\n",
    "    |       text: Pre-processed text\n",
    "    *-----------------------------------------------------------------*/\n",
    "'''\n",
    "\n",
    "\n",
    "import re\n",
    "import string\n",
    "from nltk.corpus import stopwords\n",
    "\n",
    "def data_preprocessing(text):\n",
    "    # Check if 'text' is a string\n",
    "    if not isinstance(text, str):\n",
    "        return \"\"  # Return an empty string if 'text' is not a string\n",
    "\n",
    "    # Remove all URLs\n",
    "    text = re.sub(r'http\\S+', '', text)\n",
    "\n",
    "    # Remove all names starting with @\n",
    "    text = re.sub(r'@\\w+', '', text)\n",
    "\n",
    "    # Remove all hashtags\n",
    "    text = re.sub(r'#\\w+', '', text)\n",
    "\n",
    "    # Remove all numeric digits\n",
    "    text = re.sub(r'\\d+', '', text)\n",
    "\n",
    "    # Remove all punctuation marks\n",
    "    text = text.translate(str.maketrans('', '', string.punctuation))\n",
    "\n",
    "    # Remove all non-alphabetic characters\n",
    "    text = re.sub(r'[^a-zA-Z]+', ' ', text)\n",
    "\n",
    "\n",
    "    # Regular expression matches one or more whitespace characters (\\s+) and replaces them with a single space (' ')\n",
    "    text = re.sub(r'\\s+', ' ', text)\n",
    "\n",
    "    # Convert the text to lower case\n",
    "    text = text.lower()\n",
    "    \n",
    "    # Remove all single characters\n",
    "    text = re.sub(r'\\b\\w\\b', '', text)\n",
    "        # Remove extra whitespaces after removing single characters\n",
    "        \n",
    "    text = re.sub(r'\\s+', ' ', text).strip()\n",
    "    \n",
    "    # Remove words with less than 3 characters\n",
    "    text = ' '.join(word for word in text.split() if len(word) >= 3)\n",
    "    \n",
    "    # Remove all English Stopwords\n",
    "    stop_words = stopwords.words('english')\n",
    "    text = ' '.join(word for word in text.split() if word.lower() not in stop_words)\n",
    "\n",
    "    return text\n",
    "\n",
    "# Apply the Preprocessing on Input Data Comments of Training Data\n",
    "dataset['tweet'] = dataset['tweet'].apply(data_preprocessing)\n",
    "\n",
    "print(\"\\n Data After Pre-processing:\")\n",
    "print(\"====================================\\n\")\n",
    "dataset.head(20)"
   ]
  },
  {
   "cell_type": "code",
   "execution_count": 16,
   "metadata": {},
   "outputs": [
    {
     "name": "stdout",
     "output_type": "stream",
     "text": [
      "Dataset Data:\n",
      "=======================\n",
      "\n"
     ]
    },
    {
     "data": {
      "text/html": [
       "<div>\n",
       "<style scoped>\n",
       "    .dataframe tbody tr th:only-of-type {\n",
       "        vertical-align: middle;\n",
       "    }\n",
       "\n",
       "    .dataframe tbody tr th {\n",
       "        vertical-align: top;\n",
       "    }\n",
       "\n",
       "    .dataframe thead th {\n",
       "        text-align: right;\n",
       "    }\n",
       "</style>\n",
       "<table border=\"1\" class=\"dataframe\">\n",
       "  <thead>\n",
       "    <tr style=\"text-align: right;\">\n",
       "      <th></th>\n",
       "      <th>label</th>\n",
       "      <th>tweet</th>\n",
       "    </tr>\n",
       "  </thead>\n",
       "  <tbody>\n",
       "    <tr>\n",
       "      <th>0</th>\n",
       "      <td>Neither</td>\n",
       "      <td>woman shouldnt complain cleaning house amp man...</td>\n",
       "    </tr>\n",
       "    <tr>\n",
       "      <th>1</th>\n",
       "      <td>Offensive Language</td>\n",
       "      <td>boy dats coldtyga dwn bad cuffin dat hoe place</td>\n",
       "    </tr>\n",
       "    <tr>\n",
       "      <th>2</th>\n",
       "      <td>Offensive Language</td>\n",
       "      <td>dawg ever fuck bitch start cry confused shit</td>\n",
       "    </tr>\n",
       "    <tr>\n",
       "      <th>3</th>\n",
       "      <td>Offensive Language</td>\n",
       "      <td>look like tranny</td>\n",
       "    </tr>\n",
       "    <tr>\n",
       "      <th>4</th>\n",
       "      <td>Offensive Language</td>\n",
       "      <td>shit hear might true might faker bitch told</td>\n",
       "    </tr>\n",
       "  </tbody>\n",
       "</table>\n",
       "</div>"
      ],
      "text/plain": [
       "                label                                              tweet\n",
       "0             Neither  woman shouldnt complain cleaning house amp man...\n",
       "1  Offensive Language     boy dats coldtyga dwn bad cuffin dat hoe place\n",
       "2  Offensive Language       dawg ever fuck bitch start cry confused shit\n",
       "3  Offensive Language                                   look like tranny\n",
       "4  Offensive Language        shit hear might true might faker bitch told"
      ]
     },
     "execution_count": 16,
     "metadata": {},
     "output_type": "execute_result"
    }
   ],
   "source": [
    "def filter_tweets_by_word_count(dataset, min_words=3):\n",
    "    # Count the number of words in each entry of the 'Tweet' column\n",
    "    dataset['Num_Words'] = dataset['tweet'].apply(lambda x: len(str(x).split()))\n",
    "    \n",
    "    # Filter the DataFrame to keep only rows with at least min_words words\n",
    "    filtered_dataset = dataset[dataset['Num_Words'] >= min_words].copy()\n",
    "    \n",
    "    # Drop the temporary 'Num_Words' column\n",
    "    filtered_dataset = filtered_dataset.drop(columns=['Num_Words'])\n",
    "    \n",
    "    return filtered_dataset\n",
    "\n",
    "dataset = filter_tweets_by_word_count(dataset)\n",
    "\n",
    "# Display the resulting DataFrame\n",
    "print(\"Dataset Data:\")\n",
    "print(\"=======================\\n\")\n",
    "dataset.head()"
   ]
  },
  {
   "cell_type": "code",
   "execution_count": 17,
   "metadata": {},
   "outputs": [
    {
     "data": {
      "text/html": [
       "<div>\n",
       "<style scoped>\n",
       "    .dataframe tbody tr th:only-of-type {\n",
       "        vertical-align: middle;\n",
       "    }\n",
       "\n",
       "    .dataframe tbody tr th {\n",
       "        vertical-align: top;\n",
       "    }\n",
       "\n",
       "    .dataframe thead th {\n",
       "        text-align: right;\n",
       "    }\n",
       "</style>\n",
       "<table border=\"1\" class=\"dataframe\">\n",
       "  <thead>\n",
       "    <tr style=\"text-align: right;\">\n",
       "      <th></th>\n",
       "      <th>label</th>\n",
       "      <th>tweet</th>\n",
       "    </tr>\n",
       "  </thead>\n",
       "  <tbody>\n",
       "    <tr>\n",
       "      <th>0</th>\n",
       "      <td>Neither</td>\n",
       "      <td>woman shouldnt complain cleaning house amp man...</td>\n",
       "    </tr>\n",
       "    <tr>\n",
       "      <th>1</th>\n",
       "      <td>Offensive Language</td>\n",
       "      <td>boy dats coldtyga dwn bad cuffin dat hoe place</td>\n",
       "    </tr>\n",
       "    <tr>\n",
       "      <th>2</th>\n",
       "      <td>Offensive Language</td>\n",
       "      <td>dawg ever fuck bitch start cry confused shit</td>\n",
       "    </tr>\n",
       "    <tr>\n",
       "      <th>3</th>\n",
       "      <td>Offensive Language</td>\n",
       "      <td>look like tranny</td>\n",
       "    </tr>\n",
       "    <tr>\n",
       "      <th>4</th>\n",
       "      <td>Offensive Language</td>\n",
       "      <td>shit hear might true might faker bitch told</td>\n",
       "    </tr>\n",
       "    <tr>\n",
       "      <th>...</th>\n",
       "      <td>...</td>\n",
       "      <td>...</td>\n",
       "    </tr>\n",
       "    <tr>\n",
       "      <th>22757</th>\n",
       "      <td>Offensive Language</td>\n",
       "      <td>yous muthafin lie right trash mine bible scrip...</td>\n",
       "    </tr>\n",
       "    <tr>\n",
       "      <th>22758</th>\n",
       "      <td>Neither</td>\n",
       "      <td>youve gone broke wrong heart baby drove rednec...</td>\n",
       "    </tr>\n",
       "    <tr>\n",
       "      <th>22759</th>\n",
       "      <td>Offensive Language</td>\n",
       "      <td>young buck wanna eat dat nigguh like aint fuck...</td>\n",
       "    </tr>\n",
       "    <tr>\n",
       "      <th>22760</th>\n",
       "      <td>Offensive Language</td>\n",
       "      <td>youu got wild bitches tellin lies</td>\n",
       "    </tr>\n",
       "    <tr>\n",
       "      <th>22761</th>\n",
       "      <td>Neither</td>\n",
       "      <td>ruffled ntac eileen dahlia beautiful color com...</td>\n",
       "    </tr>\n",
       "  </tbody>\n",
       "</table>\n",
       "<p>22762 rows × 2 columns</p>\n",
       "</div>"
      ],
      "text/plain": [
       "                    label                                              tweet\n",
       "0                 Neither  woman shouldnt complain cleaning house amp man...\n",
       "1      Offensive Language     boy dats coldtyga dwn bad cuffin dat hoe place\n",
       "2      Offensive Language       dawg ever fuck bitch start cry confused shit\n",
       "3      Offensive Language                                   look like tranny\n",
       "4      Offensive Language        shit hear might true might faker bitch told\n",
       "...                   ...                                                ...\n",
       "22757  Offensive Language  yous muthafin lie right trash mine bible scrip...\n",
       "22758             Neither  youve gone broke wrong heart baby drove rednec...\n",
       "22759  Offensive Language  young buck wanna eat dat nigguh like aint fuck...\n",
       "22760  Offensive Language                  youu got wild bitches tellin lies\n",
       "22761             Neither  ruffled ntac eileen dahlia beautiful color com...\n",
       "\n",
       "[22762 rows x 2 columns]"
      ]
     },
     "execution_count": 17,
     "metadata": {},
     "output_type": "execute_result"
    }
   ],
   "source": [
    "# Reset the index\n",
    "dataset = dataset.reset_index(drop=True)\n",
    "dataset"
   ]
  },
  {
   "cell_type": "markdown",
   "metadata": {},
   "source": [
    "## Represent Data in Model Understandable Format (Convert Text into Embedding Vectors)"
   ]
  },
  {
   "cell_type": "code",
   "execution_count": 21,
   "metadata": {
    "execution": {
     "iopub.execute_input": "2024-02-11T13:52:28.864495Z",
     "iopub.status.busy": "2024-02-11T13:52:28.863014Z",
     "iopub.status.idle": "2024-02-11T13:52:29.264346Z",
     "shell.execute_reply": "2024-02-11T13:52:29.262897Z",
     "shell.execute_reply.started": "2024-02-11T13:52:28.864428Z"
    }
   },
   "outputs": [
    {
     "data": {
      "text/plain": [
       "19650"
      ]
     },
     "execution_count": 21,
     "metadata": {},
     "output_type": "execute_result"
    }
   ],
   "source": [
    "from keras.preprocessing.text import Tokenizer\n",
    "\n",
    "# Create a tokenizer\n",
    "tokenizer = Tokenizer()\n",
    "tokenizer.fit_on_texts(dataset['tweet'])\n",
    "\n",
    "# Convert text to sequences of numbers\n",
    "sequences = tokenizer.texts_to_sequences(dataset['tweet'])\n",
    "vocab_size = len(tokenizer.index_word)\n",
    "vocab_size"
   ]
  },
  {
   "cell_type": "code",
   "execution_count": 22,
   "metadata": {
    "execution": {
     "iopub.execute_input": "2024-02-11T13:52:43.108092Z",
     "iopub.status.busy": "2024-02-11T13:52:43.107749Z",
     "iopub.status.idle": "2024-02-11T13:52:43.166921Z",
     "shell.execute_reply": "2024-02-11T13:52:43.165268Z",
     "shell.execute_reply.started": "2024-02-11T13:52:43.108068Z"
    }
   },
   "outputs": [
    {
     "data": {
      "text/plain": [
       "(22762, 23)"
      ]
     },
     "execution_count": 22,
     "metadata": {},
     "output_type": "execute_result"
    }
   ],
   "source": [
    "from keras.utils import pad_sequences\n",
    "sequences = pad_sequences(sequences,padding='pre')\n",
    "sequences.shape"
   ]
  },
  {
   "cell_type": "code",
   "execution_count": 23,
   "metadata": {},
   "outputs": [
    {
     "data": {
      "text/plain": [
       "array([[    0,     0,     0, ...,    76,    70,    15],\n",
       "       [    0,     0,     0, ...,    73,     7,   388],\n",
       "       [    0,     0,     0, ...,   455,   855,    12],\n",
       "       ...,\n",
       "       [    0,     0,     0, ...,    14,    87,   229],\n",
       "       [    0,     0,     0, ...,     2,  1692,  1098],\n",
       "       [    0,     0,     0, ...,    17,    50, 19650]])"
      ]
     },
     "execution_count": 23,
     "metadata": {},
     "output_type": "execute_result"
    }
   ],
   "source": [
    "sequences"
   ]
  },
  {
   "cell_type": "code",
   "execution_count": 24,
   "metadata": {
    "execution": {
     "iopub.execute_input": "2024-02-11T13:52:52.710317Z",
     "iopub.status.busy": "2024-02-11T13:52:52.709849Z",
     "iopub.status.idle": "2024-02-11T13:52:52.720585Z",
     "shell.execute_reply": "2024-02-11T13:52:52.719154Z",
     "shell.execute_reply.started": "2024-02-11T13:52:52.710283Z"
    }
   },
   "outputs": [],
   "source": [
    "import pandas as pd\n",
    "from sklearn.preprocessing import LabelEncoder\n",
    "# Initialize LabelEncoder\n",
    "le = LabelEncoder()\n",
    "\n",
    "# Apply LabelEncoder to 'airline_rating'\n",
    "dataset['labelencoded'] = le.fit_transform(dataset['label'])"
   ]
  },
  {
   "cell_type": "code",
   "execution_count": 25,
   "metadata": {},
   "outputs": [
    {
     "data": {
      "text/html": [
       "<div>\n",
       "<style scoped>\n",
       "    .dataframe tbody tr th:only-of-type {\n",
       "        vertical-align: middle;\n",
       "    }\n",
       "\n",
       "    .dataframe tbody tr th {\n",
       "        vertical-align: top;\n",
       "    }\n",
       "\n",
       "    .dataframe thead th {\n",
       "        text-align: right;\n",
       "    }\n",
       "</style>\n",
       "<table border=\"1\" class=\"dataframe\">\n",
       "  <thead>\n",
       "    <tr style=\"text-align: right;\">\n",
       "      <th></th>\n",
       "      <th>label</th>\n",
       "      <th>tweet</th>\n",
       "      <th>labelencoded</th>\n",
       "    </tr>\n",
       "  </thead>\n",
       "  <tbody>\n",
       "    <tr>\n",
       "      <th>0</th>\n",
       "      <td>Neither</td>\n",
       "      <td>woman shouldnt complain cleaning house amp man...</td>\n",
       "      <td>1</td>\n",
       "    </tr>\n",
       "    <tr>\n",
       "      <th>1</th>\n",
       "      <td>Offensive Language</td>\n",
       "      <td>boy dats coldtyga dwn bad cuffin dat hoe place</td>\n",
       "      <td>2</td>\n",
       "    </tr>\n",
       "    <tr>\n",
       "      <th>2</th>\n",
       "      <td>Offensive Language</td>\n",
       "      <td>dawg ever fuck bitch start cry confused shit</td>\n",
       "      <td>2</td>\n",
       "    </tr>\n",
       "    <tr>\n",
       "      <th>3</th>\n",
       "      <td>Offensive Language</td>\n",
       "      <td>look like tranny</td>\n",
       "      <td>2</td>\n",
       "    </tr>\n",
       "    <tr>\n",
       "      <th>4</th>\n",
       "      <td>Offensive Language</td>\n",
       "      <td>shit hear might true might faker bitch told</td>\n",
       "      <td>2</td>\n",
       "    </tr>\n",
       "    <tr>\n",
       "      <th>...</th>\n",
       "      <td>...</td>\n",
       "      <td>...</td>\n",
       "      <td>...</td>\n",
       "    </tr>\n",
       "    <tr>\n",
       "      <th>22757</th>\n",
       "      <td>Offensive Language</td>\n",
       "      <td>yous muthafin lie right trash mine bible scrip...</td>\n",
       "      <td>2</td>\n",
       "    </tr>\n",
       "    <tr>\n",
       "      <th>22758</th>\n",
       "      <td>Neither</td>\n",
       "      <td>youve gone broke wrong heart baby drove rednec...</td>\n",
       "      <td>1</td>\n",
       "    </tr>\n",
       "    <tr>\n",
       "      <th>22759</th>\n",
       "      <td>Offensive Language</td>\n",
       "      <td>young buck wanna eat dat nigguh like aint fuck...</td>\n",
       "      <td>2</td>\n",
       "    </tr>\n",
       "    <tr>\n",
       "      <th>22760</th>\n",
       "      <td>Offensive Language</td>\n",
       "      <td>youu got wild bitches tellin lies</td>\n",
       "      <td>2</td>\n",
       "    </tr>\n",
       "    <tr>\n",
       "      <th>22761</th>\n",
       "      <td>Neither</td>\n",
       "      <td>ruffled ntac eileen dahlia beautiful color com...</td>\n",
       "      <td>1</td>\n",
       "    </tr>\n",
       "  </tbody>\n",
       "</table>\n",
       "<p>22762 rows × 3 columns</p>\n",
       "</div>"
      ],
      "text/plain": [
       "                    label                                              tweet  \\\n",
       "0                 Neither  woman shouldnt complain cleaning house amp man...   \n",
       "1      Offensive Language     boy dats coldtyga dwn bad cuffin dat hoe place   \n",
       "2      Offensive Language       dawg ever fuck bitch start cry confused shit   \n",
       "3      Offensive Language                                   look like tranny   \n",
       "4      Offensive Language        shit hear might true might faker bitch told   \n",
       "...                   ...                                                ...   \n",
       "22757  Offensive Language  yous muthafin lie right trash mine bible scrip...   \n",
       "22758             Neither  youve gone broke wrong heart baby drove rednec...   \n",
       "22759  Offensive Language  young buck wanna eat dat nigguh like aint fuck...   \n",
       "22760  Offensive Language                  youu got wild bitches tellin lies   \n",
       "22761             Neither  ruffled ntac eileen dahlia beautiful color com...   \n",
       "\n",
       "       labelencoded  \n",
       "0                 1  \n",
       "1                 2  \n",
       "2                 2  \n",
       "3                 2  \n",
       "4                 2  \n",
       "...             ...  \n",
       "22757             2  \n",
       "22758             1  \n",
       "22759             2  \n",
       "22760             2  \n",
       "22761             1  \n",
       "\n",
       "[22762 rows x 3 columns]"
      ]
     },
     "execution_count": 25,
     "metadata": {},
     "output_type": "execute_result"
    }
   ],
   "source": [
    "dataset"
   ]
  },
  {
   "cell_type": "code",
   "execution_count": 26,
   "metadata": {},
   "outputs": [
    {
     "name": "stdout",
     "output_type": "stream",
     "text": [
      "Label Encoding:\n",
      "label: Neither, Encoded Value: 1\n",
      "label: Offensive Language, Encoded Value: 2\n",
      "label: Hate Speech, Encoded Value: 0\n"
     ]
    }
   ],
   "source": [
    "# Create a dictionary to store unique ratings and their encoded values\n",
    "rating_encoding = {}\n",
    "\n",
    "# Iterate over the DataFrame to populate the dictionary\n",
    "for index, row in dataset.iterrows():\n",
    "    rating = row['label']\n",
    "    encoded_value = row['labelencoded']\n",
    "    # Check if rating is not already in the dictionary\n",
    "    if rating not in rating_encoding:\n",
    "        rating_encoding[rating] = encoded_value\n",
    "\n",
    "# Print out the unique ratings and their encoded values\n",
    "print(\"Label Encoding:\")\n",
    "for rating, encoded_value in rating_encoding.items():\n",
    "    print(f\"label: {rating}, Encoded Value: {encoded_value}\")\n"
   ]
  },
  {
   "cell_type": "code",
   "execution_count": 27,
   "metadata": {},
   "outputs": [
    {
     "name": "stdout",
     "output_type": "stream",
     "text": [
      "Number of unique values in the label column: 3\n"
     ]
    }
   ],
   "source": [
    "num_unique_ratings = dataset['label'].nunique()\n",
    "\n",
    "print(\"Number of unique values in the label column:\", num_unique_ratings)"
   ]
  },
  {
   "cell_type": "code",
   "execution_count": 28,
   "metadata": {
    "execution": {
     "iopub.execute_input": "2024-02-11T13:52:54.585331Z",
     "iopub.status.busy": "2024-02-11T13:52:54.584872Z",
     "iopub.status.idle": "2024-02-11T13:52:54.596623Z",
     "shell.execute_reply": "2024-02-11T13:52:54.595445Z",
     "shell.execute_reply.started": "2024-02-11T13:52:54.585297Z"
    }
   },
   "outputs": [],
   "source": [
    "from sklearn.model_selection import train_test_split\n",
    "\n",
    "X_train, X_test, y_train, y_test = train_test_split(sequences, dataset['labelencoded'], test_size=0.2, random_state=42)"
   ]
  },
  {
   "cell_type": "code",
   "execution_count": 29,
   "metadata": {},
   "outputs": [
    {
     "data": {
      "text/plain": [
       "array([[    0,     0,     0, ...,     5,   127,     5],\n",
       "       [    0,     0,     0, ...,    38,     2,    51],\n",
       "       [    0,     0,     0, ...,   450, 15442,     5],\n",
       "       ...,\n",
       "       [    0,     0,     0, ...,   644,   958,  1942],\n",
       "       [    0,     0,     0, ...,    31,   875,    66],\n",
       "       [    0,     0,     0, ...,     1,    65,  1369]])"
      ]
     },
     "execution_count": 29,
     "metadata": {},
     "output_type": "execute_result"
    }
   ],
   "source": [
    "X_train"
   ]
  },
  {
   "cell_type": "markdown",
   "metadata": {},
   "source": [
    "# Model"
   ]
  },
  {
   "cell_type": "markdown",
   "metadata": {},
   "source": [
    "## 1. Build RNN Model\n",
    "\n",
    "### Set Up the Layers\n",
    "-  **Embedding Layer**\n",
    "-  **RNN Layer with 64 Memory Units**\n",
    "-  **Dropout**"
   ]
  },
  {
   "cell_type": "code",
   "execution_count": 30,
   "metadata": {
    "execution": {
     "iopub.execute_input": "2024-02-11T15:05:41.343021Z",
     "iopub.status.busy": "2024-02-11T15:05:41.342638Z",
     "iopub.status.idle": "2024-02-11T15:05:41.533032Z",
     "shell.execute_reply": "2024-02-11T15:05:41.531506Z",
     "shell.execute_reply.started": "2024-02-11T15:05:41.342995Z"
    }
   },
   "outputs": [
    {
     "name": "stdout",
     "output_type": "stream",
     "text": [
      "WARNING:tensorflow:From C:\\Users\\waqar\\anaconda3\\Lib\\site-packages\\keras\\src\\backend.py:873: The name tf.get_default_graph is deprecated. Please use tf.compat.v1.get_default_graph instead.\n",
      "\n"
     ]
    }
   ],
   "source": [
    "from keras.preprocessing.sequence import pad_sequences\n",
    "from keras.models import Sequential\n",
    "from keras.layers import Embedding, Dense, Bidirectional, SimpleRNN,GRU,LSTM,Dropout\n",
    "\n",
    "model = Sequential([\n",
    "    Embedding(input_dim=19700,output_dim=100,input_length=23),\n",
    "    SimpleRNN(64),\n",
    "    Dropout(0.5),\n",
    "    Dense(12,activation='relu'),\n",
    "    Dense(3,activation='softmax')\n",
    "])"
   ]
  },
  {
   "cell_type": "markdown",
   "metadata": {},
   "source": [
    "## Compile the RNN Model\n",
    "-  **Optimizer**\n",
    "-  **Loss function**\n",
    "-  **Metrics**\n",
    "-  **Learning Rate**\n",
    "-  **Momentum**"
   ]
  },
  {
   "cell_type": "code",
   "execution_count": 31,
   "metadata": {},
   "outputs": [
    {
     "name": "stdout",
     "output_type": "stream",
     "text": [
      "WARNING:tensorflow:From C:\\Users\\waqar\\anaconda3\\Lib\\site-packages\\keras\\src\\optimizers\\__init__.py:309: The name tf.train.Optimizer is deprecated. Please use tf.compat.v1.train.Optimizer instead.\n",
      "\n",
      "Model: \"sequential\"\n",
      "_________________________________________________________________\n",
      " Layer (type)                Output Shape              Param #   \n",
      "=================================================================\n",
      " embedding (Embedding)       (None, 23, 100)           1970000   \n",
      "                                                                 \n",
      " simple_rnn (SimpleRNN)      (None, 64)                10560     \n",
      "                                                                 \n",
      " dropout (Dropout)           (None, 64)                0         \n",
      "                                                                 \n",
      " dense (Dense)               (None, 12)                780       \n",
      "                                                                 \n",
      " dense_1 (Dense)             (None, 3)                 39        \n",
      "                                                                 \n",
      "=================================================================\n",
      "Total params: 1981379 (7.56 MB)\n",
      "Trainable params: 1981379 (7.56 MB)\n",
      "Non-trainable params: 0 (0.00 Byte)\n",
      "_________________________________________________________________\n"
     ]
    }
   ],
   "source": [
    "#compiling model\n",
    "model.compile(optimizer=\"adam\",loss='sparse_categorical_crossentropy',metrics=['accuracy'])\n",
    "\n",
    "model.summary()"
   ]
  },
  {
   "cell_type": "markdown",
   "metadata": {},
   "source": [
    "### RNN Model Training"
   ]
  },
  {
   "cell_type": "code",
   "execution_count": 32,
   "metadata": {
    "execution": {
     "iopub.execute_input": "2024-02-11T15:05:49.232271Z",
     "iopub.status.busy": "2024-02-11T15:05:49.231802Z",
     "iopub.status.idle": "2024-02-11T15:07:26.096720Z",
     "shell.execute_reply": "2024-02-11T15:07:26.095991Z",
     "shell.execute_reply.started": "2024-02-11T15:05:49.232237Z"
    }
   },
   "outputs": [
    {
     "name": "stdout",
     "output_type": "stream",
     "text": [
      "Epoch 1/5\n",
      "WARNING:tensorflow:From C:\\Users\\waqar\\anaconda3\\Lib\\site-packages\\keras\\src\\utils\\tf_utils.py:492: The name tf.ragged.RaggedTensorValue is deprecated. Please use tf.compat.v1.ragged.RaggedTensorValue instead.\n",
      "\n",
      "WARNING:tensorflow:From C:\\Users\\waqar\\anaconda3\\Lib\\site-packages\\keras\\src\\engine\\base_layer_utils.py:384: The name tf.executing_eagerly_outside_functions is deprecated. Please use tf.compat.v1.executing_eagerly_outside_functions instead.\n",
      "\n",
      "513/513 [==============================] - 20s 33ms/step - loss: 0.4634 - accuracy: 0.8419 - val_loss: 0.3550 - val_accuracy: 0.8841\n",
      "Epoch 2/5\n",
      "513/513 [==============================] - 20s 38ms/step - loss: 0.2374 - accuracy: 0.9195 - val_loss: 0.3586 - val_accuracy: 0.8764\n",
      "Epoch 3/5\n",
      "513/513 [==============================] - 20s 38ms/step - loss: 0.1113 - accuracy: 0.9645 - val_loss: 0.4488 - val_accuracy: 0.8682\n",
      "Epoch 4/5\n",
      "513/513 [==============================] - 18s 36ms/step - loss: 0.0533 - accuracy: 0.9841 - val_loss: 0.5589 - val_accuracy: 0.8380\n",
      "Epoch 5/5\n",
      "513/513 [==============================] - 19s 36ms/step - loss: 0.0378 - accuracy: 0.9885 - val_loss: 0.6823 - val_accuracy: 0.8561\n"
     ]
    }
   ],
   "source": [
    "history = model.fit(X_train,y_train,epochs=5, validation_split=0.1)"
   ]
  },
  {
   "cell_type": "markdown",
   "metadata": {},
   "source": [
    "### RNN Model Testing"
   ]
  },
  {
   "cell_type": "code",
   "execution_count": 33,
   "metadata": {
    "execution": {
     "iopub.execute_input": "2024-02-11T15:38:05.969915Z",
     "iopub.status.busy": "2024-02-11T15:38:05.969055Z",
     "iopub.status.idle": "2024-02-11T15:38:06.095277Z",
     "shell.execute_reply": "2024-02-11T15:38:06.093419Z",
     "shell.execute_reply.started": "2024-02-11T15:38:05.969829Z"
    }
   },
   "outputs": [
    {
     "name": "stdout",
     "output_type": "stream",
     "text": [
      "143/143 [==============================] - 1s 6ms/step\n",
      "Accuracy: 0.8662420382165605\n"
     ]
    }
   ],
   "source": [
    "# Predict on the test data\n",
    "predictions = model.predict(X_test)\n",
    "# Now evaluate the model using metrics like accuracy, precision, recall, etc.\n",
    "from sklearn.metrics import accuracy_score, classification_report\n",
    "\n",
    "# Convert predictions to class labels (assuming predictions are in one-hot encoded format)\n",
    "predicted_labels = predictions.argmax(axis=1)\n",
    "\n",
    "# Calculate accuracy\n",
    "accuracy = accuracy_score(y_test, predicted_labels)\n",
    "print(f\"Accuracy: {accuracy}\")"
   ]
  },
  {
   "cell_type": "code",
   "execution_count": 34,
   "metadata": {},
   "outputs": [
    {
     "name": "stdout",
     "output_type": "stream",
     "text": [
      "\n",
      "precision Score of RNN:\n",
      "================================\n",
      "\n",
      "0.85\n",
      "\n",
      "\n",
      "Recall Score of RNN:\n",
      "================================\n",
      "\n",
      "0.87\n",
      "\n",
      "\n",
      "F1 Score of RNN:\n",
      "================================\n",
      "\n",
      "0.85\n"
     ]
    }
   ],
   "source": [
    "print(\"\\nprecision Score of RNN:\")\n",
    "print(\"================================\\n\")\n",
    "\n",
    "pscore = round(precision_score(y_test,predicted_labels, average='weighted'),2)\n",
    "print(pscore)\n",
    "\n",
    "print(\"\\n\\nRecall Score of RNN:\")\n",
    "print(\"================================\\n\")\n",
    "\n",
    "recalscore = round(recall_score(y_test,predicted_labels, average='weighted'),2)\n",
    "print(recalscore)\n",
    "\n",
    "print(\"\\n\\nF1 Score of RNN:\")\n",
    "print(\"================================\\n\")\n",
    "\n",
    "f1score = round(f1_score(y_test,predicted_labels, average='weighted'),2)\n",
    "print(f1score)"
   ]
  },
  {
   "cell_type": "code",
   "execution_count": 35,
   "metadata": {},
   "outputs": [
    {
     "name": "stdout",
     "output_type": "stream",
     "text": [
      "              precision    recall  f1-score   support\n",
      "\n",
      "           0       0.41      0.14      0.21       250\n",
      "           1       0.75      0.76      0.75       764\n",
      "           2       0.90      0.94      0.92      3539\n",
      "\n",
      "    accuracy                           0.87      4553\n",
      "   macro avg       0.69      0.62      0.63      4553\n",
      "weighted avg       0.85      0.87      0.85      4553\n",
      "\n"
     ]
    }
   ],
   "source": [
    "# print classification report\n",
    "print(classification_report(y_test, predicted_labels, digits  = 2))"
   ]
  },
  {
   "cell_type": "code",
   "execution_count": 37,
   "metadata": {},
   "outputs": [
    {
     "data": {
      "text/plain": [
       "Text(70.7222222222222, 0.5, 'Real Labels')"
      ]
     },
     "execution_count": 37,
     "metadata": {},
     "output_type": "execute_result"
    },
    {
     "data": {
      "image/png": "[encoded data removed]",
      "text/plain": [
       "<Figure size 800x600 with 2 Axes>"
      ]
     },
     "metadata": {},
     "output_type": "display_data"
    }
   ],
   "source": [
    "import seaborn as sns\n",
    "import matplotlib.pyplot as plt\n",
    "#confusion Matrix\n",
    "plt.figure(figsize = (8,6))\n",
    "class_names = [\"Hate Speech\", \"Neither\", \"Offensive Language\"]\n",
    "sns.heatmap(confusion_matrix(y_test,predicted_labels), annot=True, fmt='', cmap='Blues', xticklabels=class_names, yticklabels=class_names)\n",
    "plt.xlabel('Predicted Labels')\n",
    "plt.ylabel('Real Labels')"
   ]
  },
  {
   "cell_type": "markdown",
   "metadata": {},
   "source": [
    "## 2. Build LSTM Model\n",
    "\n",
    "### Set Up the Layers\n",
    "-  **Embedding Layer**\n",
    "-  **LSTM Layer with 64 Memory Units**\n",
    "-  **Dropout**"
   ]
  },
  {
   "cell_type": "code",
   "execution_count": 38,
   "metadata": {
    "execution": {
     "iopub.execute_input": "2024-02-11T16:32:18.099876Z",
     "iopub.status.busy": "2024-02-11T16:32:18.099393Z",
     "iopub.status.idle": "2024-02-11T16:32:18.632236Z",
     "shell.execute_reply": "2024-02-11T16:32:18.631365Z",
     "shell.execute_reply.started": "2024-02-11T16:32:18.099839Z"
    }
   },
   "outputs": [
    {
     "name": "stdout",
     "output_type": "stream",
     "text": [
      "Model: \"sequential_1\"\n",
      "_________________________________________________________________\n",
      " Layer (type)                Output Shape              Param #   \n",
      "=================================================================\n",
      " embedding_1 (Embedding)     (None, 23, 100)           1970000   \n",
      "                                                                 \n",
      " lstm (LSTM)                 (None, 64)                42240     \n",
      "                                                                 \n",
      " dense_2 (Dense)             (None, 3)                 195       \n",
      "                                                                 \n",
      "=================================================================\n",
      "Total params: 2012435 (7.68 MB)\n",
      "Trainable params: 2012435 (7.68 MB)\n",
      "Non-trainable params: 0 (0.00 Byte)\n",
      "_________________________________________________________________\n"
     ]
    }
   ],
   "source": [
    "model2 = Sequential([\n",
    "    Embedding(input_dim=19700,output_dim=100,input_length=23),\n",
    "    LSTM(64),\n",
    "#     Dropout(0.5),\n",
    "#     Dense(12,activation='relu'),\n",
    "    Dense(3,activation='softmax')\n",
    "])\n",
    "\n",
    "#compiling model\n",
    "model2.compile(optimizer=\"rmsprop\",loss='sparse_categorical_crossentropy',metrics=['accuracy'])\n",
    "\n",
    "model2.summary()"
   ]
  },
  {
   "cell_type": "markdown",
   "metadata": {},
   "source": [
    "### Training"
   ]
  },
  {
   "cell_type": "code",
   "execution_count": 39,
   "metadata": {
    "execution": {
     "iopub.execute_input": "2024-02-11T16:32:21.819923Z",
     "iopub.status.busy": "2024-02-11T16:32:21.819558Z",
     "iopub.status.idle": "2024-02-11T16:33:59.265478Z",
     "shell.execute_reply": "2024-02-11T16:33:59.264749Z",
     "shell.execute_reply.started": "2024-02-11T16:32:21.819899Z"
    }
   },
   "outputs": [
    {
     "name": "stdout",
     "output_type": "stream",
     "text": [
      "Epoch 1/10\n",
      "513/513 [==============================] - 11s 18ms/step - loss: 0.4195 - accuracy: 0.8551 - val_loss: 0.3607 - val_accuracy: 0.8869\n",
      "Epoch 2/10\n",
      "513/513 [==============================] - 9s 17ms/step - loss: 0.2726 - accuracy: 0.9080 - val_loss: 0.3115 - val_accuracy: 0.8946\n",
      "Epoch 3/10\n",
      "513/513 [==============================] - 9s 17ms/step - loss: 0.2245 - accuracy: 0.9231 - val_loss: 0.3035 - val_accuracy: 0.8973\n",
      "Epoch 4/10\n",
      "513/513 [==============================] - 9s 18ms/step - loss: 0.1945 - accuracy: 0.9352 - val_loss: 0.3028 - val_accuracy: 0.8990\n",
      "Epoch 5/10\n",
      "513/513 [==============================] - 10s 19ms/step - loss: 0.1723 - accuracy: 0.9432 - val_loss: 0.3186 - val_accuracy: 0.8907\n",
      "Epoch 6/10\n",
      "513/513 [==============================] - 11s 21ms/step - loss: 0.1513 - accuracy: 0.9511 - val_loss: 0.3323 - val_accuracy: 0.8946\n",
      "Epoch 7/10\n",
      "513/513 [==============================] - 10s 19ms/step - loss: 0.1320 - accuracy: 0.9583 - val_loss: 0.4022 - val_accuracy: 0.8682\n",
      "Epoch 8/10\n",
      "513/513 [==============================] - 10s 20ms/step - loss: 0.1178 - accuracy: 0.9641 - val_loss: 0.3817 - val_accuracy: 0.8825\n",
      "Epoch 9/10\n",
      "513/513 [==============================] - 10s 19ms/step - loss: 0.1049 - accuracy: 0.9672 - val_loss: 0.4082 - val_accuracy: 0.8786\n",
      "Epoch 10/10\n",
      "513/513 [==============================] - 10s 19ms/step - loss: 0.0931 - accuracy: 0.9715 - val_loss: 0.4587 - val_accuracy: 0.8666\n"
     ]
    }
   ],
   "source": [
    "history = model2.fit(X_train,y_train,epochs=10, validation_split=0.1)\n"
   ]
  },
  {
   "cell_type": "markdown",
   "metadata": {},
   "source": [
    "### Testing LSTM"
   ]
  },
  {
   "cell_type": "code",
   "execution_count": 40,
   "metadata": {
    "execution": {
     "iopub.execute_input": "2024-02-11T16:33:59.267904Z",
     "iopub.status.busy": "2024-02-11T16:33:59.266953Z",
     "iopub.status.idle": "2024-02-11T16:33:59.975559Z",
     "shell.execute_reply": "2024-02-11T16:33:59.974048Z",
     "shell.execute_reply.started": "2024-02-11T16:33:59.267877Z"
    }
   },
   "outputs": [
    {
     "name": "stdout",
     "output_type": "stream",
     "text": [
      "143/143 [==============================] - 2s 6ms/step\n",
      "Accuracy: 0.8684383922688337\n"
     ]
    }
   ],
   "source": [
    "# Predict on the test data\n",
    "predictions = model2.predict(X_test)\n",
    "# Now evaluate the model using metrics like accuracy, precision, recall, etc.\n",
    "from sklearn.metrics import accuracy_score, classification_report\n",
    "\n",
    "# Convert predictions to class labels (assuming predictions are in one-hot encoded format)\n",
    "predicted_labels = predictions.argmax(axis=1)\n",
    "\n",
    "# Calculate accuracy\n",
    "accuracy = accuracy_score(y_test, predicted_labels)\n",
    "print(f\"Accuracy: {accuracy}\")"
   ]
  },
  {
   "cell_type": "code",
   "execution_count": 41,
   "metadata": {},
   "outputs": [
    {
     "name": "stdout",
     "output_type": "stream",
     "text": [
      "\n",
      "precision Score of LSTM:\n",
      "================================\n",
      "\n",
      "0.87\n",
      "\n",
      "\n",
      "Recall Score of LSTM:\n",
      "================================\n",
      "\n",
      "0.87\n",
      "\n",
      "\n",
      "F1 Score of LSTM:\n",
      "================================\n",
      "\n",
      "0.87\n"
     ]
    }
   ],
   "source": [
    "print(\"\\nprecision Score of LSTM:\")\n",
    "print(\"================================\\n\")\n",
    "\n",
    "pscore = round(precision_score(y_test,predicted_labels, average='weighted'),2)\n",
    "print(pscore)\n",
    "\n",
    "print(\"\\n\\nRecall Score of LSTM:\")\n",
    "print(\"================================\\n\")\n",
    "\n",
    "recalscore = round(recall_score(y_test,predicted_labels, average='weighted'),2)\n",
    "print(recalscore)\n",
    "\n",
    "print(\"\\n\\nF1 Score of LSTM:\")\n",
    "print(\"================================\\n\")\n",
    "\n",
    "f1score = round(f1_score(y_test,predicted_labels, average='weighted'),2)\n",
    "print(f1score)"
   ]
  },
  {
   "cell_type": "code",
   "execution_count": 42,
   "metadata": {},
   "outputs": [
    {
     "name": "stdout",
     "output_type": "stream",
     "text": [
      "              precision    recall  f1-score   support\n",
      "\n",
      "           0       0.27      0.32      0.29       250\n",
      "           1       0.86      0.69      0.77       764\n",
      "           2       0.92      0.94      0.93      3539\n",
      "\n",
      "    accuracy                           0.87      4553\n",
      "   macro avg       0.68      0.65      0.66      4553\n",
      "weighted avg       0.87      0.87      0.87      4553\n",
      "\n"
     ]
    }
   ],
   "source": [
    "# print classification report\n",
    "print(classification_report(y_test, predicted_labels, digits  = 2))"
   ]
  },
  {
   "cell_type": "code",
   "execution_count": 43,
   "metadata": {},
   "outputs": [
    {
     "data": {
      "text/plain": [
       "Text(70.7222222222222, 0.5, 'Real Labels')"
      ]
     },
     "execution_count": 43,
     "metadata": {},
     "output_type": "execute_result"
    },
    {
     "data": {
      "image/png": "[encoded data removed]",
      "text/plain": [
       "<Figure size 800x600 with 2 Axes>"
      ]
     },
     "metadata": {},
     "output_type": "display_data"
    }
   ],
   "source": [
    "import seaborn as sns\n",
    "#confusion Matrix\n",
    "plt.figure(figsize = (8,6))\n",
    "class_names = [\"Hate Speech\", \"Neither\", \"Offensive Language\"]\n",
    "sns.heatmap(confusion_matrix(y_test,predicted_labels), annot=True, fmt='', cmap='Blues', xticklabels=class_names, yticklabels=class_names)\n",
    "plt.xlabel('Predicted Labels')\n",
    "plt.ylabel('Real Labels')"
   ]
  },
  {
   "cell_type": "markdown",
   "metadata": {},
   "source": [
    "## 3. Build GRU Model\n",
    "\n",
    "### Set Up the Layers\n",
    "-  **Embedding Layer**\n",
    "-  **GRU Layer with 64 Memory Units**\n",
    "-  **Dropout**"
   ]
  },
  {
   "cell_type": "code",
   "execution_count": 44,
   "metadata": {
    "execution": {
     "iopub.execute_input": "2024-02-11T16:45:11.546459Z",
     "iopub.status.busy": "2024-02-11T16:45:11.546111Z",
     "iopub.status.idle": "2024-02-11T16:45:11.975747Z",
     "shell.execute_reply": "2024-02-11T16:45:11.974853Z",
     "shell.execute_reply.started": "2024-02-11T16:45:11.546433Z"
    }
   },
   "outputs": [
    {
     "name": "stdout",
     "output_type": "stream",
     "text": [
      "Model: \"sequential_2\"\n",
      "_________________________________________________________________\n",
      " Layer (type)                Output Shape              Param #   \n",
      "=================================================================\n",
      " embedding_2 (Embedding)     (None, 23, 100)           1970000   \n",
      "                                                                 \n",
      " gru (GRU)                   (None, 64)                31872     \n",
      "                                                                 \n",
      " dense_3 (Dense)             (None, 3)                 195       \n",
      "                                                                 \n",
      "=================================================================\n",
      "Total params: 2002067 (7.64 MB)\n",
      "Trainable params: 2002067 (7.64 MB)\n",
      "Non-trainable params: 0 (0.00 Byte)\n",
      "_________________________________________________________________\n"
     ]
    }
   ],
   "source": [
    "model3 = Sequential([\n",
    "    Embedding(input_dim=19700,output_dim=100,input_length=23),\n",
    "    GRU(64),\n",
    "#     Dropout(0.5),\n",
    "#     Dense(12,activation='relu'),\n",
    "    Dense(3,activation='softmax')\n",
    "])\n",
    "\n",
    "#compiling model\n",
    "model3.compile(optimizer=\"rmsprop\",loss='sparse_categorical_crossentropy',metrics=['accuracy'])\n",
    "\n",
    "model3.summary()"
   ]
  },
  {
   "cell_type": "code",
   "execution_count": 45,
   "metadata": {
    "execution": {
     "iopub.execute_input": "2024-02-11T16:45:11.977427Z",
     "iopub.status.busy": "2024-02-11T16:45:11.977181Z",
     "iopub.status.idle": "2024-02-11T16:46:51.219693Z",
     "shell.execute_reply": "2024-02-11T16:46:51.218593Z",
     "shell.execute_reply.started": "2024-02-11T16:45:11.977406Z"
    }
   },
   "outputs": [
    {
     "name": "stdout",
     "output_type": "stream",
     "text": [
      "Epoch 1/5\n",
      "513/513 [==============================] - 16s 24ms/step - loss: 0.4045 - accuracy: 0.8556 - val_loss: 0.3296 - val_accuracy: 0.8891\n",
      "Epoch 2/5\n",
      "513/513 [==============================] - 10s 19ms/step - loss: 0.2608 - accuracy: 0.9121 - val_loss: 0.2984 - val_accuracy: 0.8951\n",
      "Epoch 3/5\n",
      "513/513 [==============================] - 8s 16ms/step - loss: 0.2226 - accuracy: 0.9245 - val_loss: 0.3255 - val_accuracy: 0.9072\n",
      "Epoch 4/5\n",
      "513/513 [==============================] - 8s 16ms/step - loss: 0.1973 - accuracy: 0.9348 - val_loss: 0.3111 - val_accuracy: 0.8973\n",
      "Epoch 5/5\n",
      "513/513 [==============================] - 8s 16ms/step - loss: 0.1724 - accuracy: 0.9440 - val_loss: 0.3521 - val_accuracy: 0.8874\n"
     ]
    }
   ],
   "source": [
    "history3 = model3.fit(X_train,y_train,epochs=5, validation_split=0.1)\n"
   ]
  },
  {
   "cell_type": "code",
   "execution_count": 46,
   "metadata": {
    "execution": {
     "iopub.execute_input": "2024-02-11T16:46:51.221700Z",
     "iopub.status.busy": "2024-02-11T16:46:51.221311Z",
     "iopub.status.idle": "2024-02-11T16:46:51.850580Z",
     "shell.execute_reply": "2024-02-11T16:46:51.849176Z",
     "shell.execute_reply.started": "2024-02-11T16:46:51.221672Z"
    }
   },
   "outputs": [
    {
     "name": "stdout",
     "output_type": "stream",
     "text": [
      "143/143 [==============================] - 1s 4ms/step\n",
      "Accuracy: 0.8840325060399736\n"
     ]
    }
   ],
   "source": [
    "# Predict on the test data\n",
    "predictions = model3.predict(X_test)\n",
    "# Now evaluate the model using metrics like accuracy, precision, recall, etc.\n",
    "from sklearn.metrics import accuracy_score, classification_report\n",
    "\n",
    "# Convert predictions to class labels (assuming predictions are in one-hot encoded format)\n",
    "predicted_labels = predictions.argmax(axis=1)\n",
    "\n",
    "# Calculate accuracy\n",
    "accuracy = accuracy_score(y_test, predicted_labels)\n",
    "print(f\"Accuracy: {accuracy}\")"
   ]
  },
  {
   "cell_type": "code",
   "execution_count": 47,
   "metadata": {},
   "outputs": [
    {
     "name": "stdout",
     "output_type": "stream",
     "text": [
      "\n",
      "precision Score of GRU:\n",
      "================================\n",
      "\n",
      "0.87\n",
      "\n",
      "\n",
      "Recall Score of GRU:\n",
      "================================\n",
      "\n",
      "0.88\n",
      "\n",
      "\n",
      "F1 Score of GRU:\n",
      "================================\n",
      "\n",
      "0.87\n"
     ]
    }
   ],
   "source": [
    "print(\"\\nprecision Score of GRU:\")\n",
    "print(\"================================\\n\")\n",
    "\n",
    "pscore = round(precision_score(y_test,predicted_labels, average='weighted'),2)\n",
    "print(pscore)\n",
    "\n",
    "print(\"\\n\\nRecall Score of GRU:\")\n",
    "print(\"================================\\n\")\n",
    "\n",
    "recalscore = round(recall_score(y_test,predicted_labels, average='weighted'),2)\n",
    "print(recalscore)\n",
    "\n",
    "print(\"\\n\\nF1 Score of GRU:\")\n",
    "print(\"================================\\n\")\n",
    "\n",
    "f1score = round(f1_score(y_test,predicted_labels, average='weighted'),2)\n",
    "print(f1score)"
   ]
  },
  {
   "cell_type": "code",
   "execution_count": 48,
   "metadata": {},
   "outputs": [
    {
     "name": "stdout",
     "output_type": "stream",
     "text": [
      "              precision    recall  f1-score   support\n",
      "\n",
      "           0       0.39      0.21      0.27       250\n",
      "           1       0.89      0.70      0.78       764\n",
      "           2       0.90      0.97      0.93      3539\n",
      "\n",
      "    accuracy                           0.88      4553\n",
      "   macro avg       0.73      0.63      0.66      4553\n",
      "weighted avg       0.87      0.88      0.87      4553\n",
      "\n"
     ]
    }
   ],
   "source": [
    "# print classification report\n",
    "print(classification_report(y_test, predicted_labels, digits  = 2))"
   ]
  },
  {
   "cell_type": "code",
   "execution_count": 49,
   "metadata": {},
   "outputs": [
    {
     "data": {
      "text/plain": [
       "Text(70.7222222222222, 0.5, 'Real Labels')"
      ]
     },
     "execution_count": 49,
     "metadata": {},
     "output_type": "execute_result"
    },
    {
     "data": {
      "image/png": "[encoded data removed]",
      "text/plain": [
       "<Figure size 800x600 with 2 Axes>"
      ]
     },
     "metadata": {},
     "output_type": "display_data"
    }
   ],
   "source": [
    "import seaborn as sns\n",
    "#confusion Matrix\n",
    "plt.figure(figsize = (8,6))\n",
    "class_names = [\"Hate Speech\", \"Neither\", \"Offensive Language\"]\n",
    "sns.heatmap(confusion_matrix(y_test,predicted_labels), annot=True, fmt='', cmap='Blues', xticklabels=class_names, yticklabels=class_names)\n",
    "plt.xlabel('Predicted Labels')\n",
    "plt.ylabel('Real Labels')"
   ]
  },
  {
   "cell_type": "code",
   "execution_count": 51,
   "metadata": {},
   "outputs": [
    {
     "data": {
      "image/png": "[encoded data removed]",
      "text/plain": [
       "<Figure size 1000x600 with 1 Axes>"
      ]
     },
     "metadata": {},
     "output_type": "display_data"
    }
   ],
   "source": [
    "import matplotlib.pyplot as plt\n",
    "\n",
    "models = ['Simple RNN', 'LSTM Model', 'GRU Model']\n",
    "testing_accuracy = [87, 87, 88]\n",
    "precision = [85, 87, 87]\n",
    "recall = [87, 87, 88]\n",
    "f1_score = [85, 87, 87]\n",
    "\n",
    "x = range(len(models))\n",
    "\n",
    "# Plotting the bar graphs\n",
    "plt.figure(figsize=(10, 6))\n",
    "\n",
    "plt.bar(x, testing_accuracy, width=0.2, label='Testing Accuracy')\n",
    "plt.bar([i + 0.2 for i in x], precision, width=0.2, label='Precision')\n",
    "plt.bar([i + 0.4 for i in x], recall, width=0.2, label='Recall')\n",
    "plt.bar([i + 0.6 for i in x], f1_score, width=0.2, label='F1 Score')\n",
    "\n",
    "plt.xlabel('Models')\n",
    "plt.ylabel('Score (%)')\n",
    "plt.title('Comparison of Deep Learning Models')\n",
    "plt.xticks([i + 0.3 for i in x], models)\n",
    "plt.legend()\n",
    "\n",
    "plt.tight_layout()\n",
    "plt.show()\n"
   ]
  },
  {
   "cell_type": "code",
   "execution_count": null,
   "metadata": {},
   "outputs": [],
   "source": []
  }
 ],
 "metadata": {
  "kaggle": {
   "accelerator": "none",
   "dataSources": [
    {
     "datasetId": 17,
     "sourceId": 742210,
     "sourceType": "datasetVersion"
    }
   ],
   "dockerImageVersionId": 30646,
   "isGpuEnabled": false,
   "isInternetEnabled": false,
   "language": "python",
   "sourceType": "notebook"
  },
  "kernelspec": {
   "display_name": "Python 3 (ipykernel)",
   "language": "python",
   "name": "python3"
  },
  "language_info": {
   "codemirror_mode": {
    "name": "ipython",
    "version": 3
   },
   "file_extension": ".py",
   "mimetype": "text/x-python",
   "name": "python",
   "nbconvert_exporter": "python",
   "pygments_lexer": "ipython3",
   "version": "3.11.5"
  }
 },
 "nbformat": 4,
 "nbformat_minor": 4
}
